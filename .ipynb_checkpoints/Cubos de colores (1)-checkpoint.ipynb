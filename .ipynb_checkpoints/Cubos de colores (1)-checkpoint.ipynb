{
 "cells": [
  {
   "cell_type": "markdown",
   "metadata": {},
   "source": [
    "<div style=\"display:block;  float:none\">\n",
    "<div style=\"display:inline; float:left; width:15%; height:12em;\">\n",
    "<br>\n",
    "<img src=\"images/logomaI.png\" alt=\"logomaI\" style=\"display:block; float:left; width:95%;\"> \n",
    "</div>\n",
    "\n",
    "<div style=\"display:block; float:left; width:70%; height:12em\">\n",
    "    <h4 style=\"text-align: center;\">ESCUELA TÉCNICA SUPERIOR DE INGENIERÍA INFORMÁTICA</h4>\n",
    "    <h4 style=\"text-align: center;\">UNIVERSIDAD DE SEVILLA</h4> \n",
    "    <h3 style=\"text-align: center;\">MATEMÁTICA APLICADA A TECNOLOGÍAS DE LA INFORMACIÓN</h3>\n",
    "</div>\n",
    "\n",
    "<div style=\"display:inline; float:left; width:15%; height:12em\">\n",
    "<img src=\"images/logoUS.png\" alt=\"logoUS\" style=\"display:block; float:left; width:90%;\"> \n",
    "</div>\n",
    "</div>\n",
    "\n",
    "<center>  \n",
    "    \n",
    "# PROBLEMA DE LOS CUBOS CON LAS CARAS DE COLORES\n",
    "\n",
    "</center><br><br> \n",
    "\n",
    "\n",
    "Elaborado por el *GRUPO 2*.  \n",
    "\n",
    "Dirigido por *Ramos González, Víctor*  \n",
    "\n",
    "Autores: *Abban Ehentam, Mathias. Aranda Triana, Juan Antonio. Calcedo Vázquez, José. Corpas Espinar, Antonio. Jurado Ortiz, José Luis. Ramos González, Víctor. Ramos Molinero, José Felipe. Trujillo Gómez, Isabel María.*  "
   ]
  },
  {
   "attachments": {},
   "cell_type": "markdown",
   "metadata": {},
   "source": [
    "\n",
    "### 1. ENUNCIADO DEL PROBLEMA\n",
    "\n",
    "El juego de los cubos con caras de colores consta de cuatro cubos en cuyas caras aparecen cuatro colores.\n",
    "Cada cubo tiene con un determinado patrón de colores en sus caras. El reto es apilarlos uno encima de\n",
    "otro formando una columna de manera que en los cuatro lados de la columna aparezcan los cuatro colores.\n",
    "\n",
    "Se pide: \n",
    "\n",
    "1. Diseñar un algoritmo usando la Teoría de Grafos para resolver cualquier instancia de dicho juego o probar\n",
    "que es imposible hacerlo.  \n",
    "\n",
    "2. Implementar dicho algoritmo utilizando las herramientas adecuadas.\n",
    "\n",
    "3. Aplicarlo a la resolución de los juegos: \n",
    "\n",
    "<img src=\"images/cubosJuego1.png\" alt=\"logoUS\" style=\"display:block; width:40%\"> \n",
    "<center> Juego 1 (<i>Solución única</i>) </center>  \n",
    "<br>\n",
    "\n",
    "<img src=\"images/cubosJuego2.png\" alt=\"logoUS\" style=\"display:block; width:40%\"> \n",
    "<center>Juego 2. (<i>Sin solución</i>)</center>  \n",
    "<br>\n",
    "\n",
    "<img src=\"images/cubosJuego3.png\" alt=\"logoUS\" style=\"display:block; width:40%\"> \n",
    "<center>Juego 3. (<i>3 Soluciones</i>)</center>  \n",
    "<br>"
   ]
  },
  {
   "cell_type": "markdown",
   "metadata": {},
   "source": [
    "### 2. FUNDAMENTOS TEÓRICOS\n",
    "\n",
    "Tal y como refleja *\\[1\\]*, vamos a seguir la siguiente metodología para la resolución del problema:\n",
    "\n",
    "$\\boxed{TO \\, DO}$\n",
    "\n"
   ]
  },
  {
   "cell_type": "markdown",
   "metadata": {},
   "source": [
    "### 3. IMPLEMENTACIÓN DEL ALGORITMO\n",
    "#### 3.1. REPRESENTACIÓN DE LOS CUBOS\n",
    "\n",
    "Para un mismo cubo se pueden dar varios desarrollos según la posición del cubo, sin embargo lo que es invariante son las caras opuestas, de forma que vamos a representar los cubos como 3 pares, cada uno de ellos indicando los colores de dos caras opuestas (strings).\n",
    "\n",
    "De forma que el juego corresponderá a una lista de cubos, que serán los que han de ser apilados, en nuestro caso una lista con 4 cubos.\n",
    "\n",
    "Téngase la siguiente representación para el juego 1:"
   ]
  },
  {
   "cell_type": "code",
   "execution_count": null,
   "metadata": {},
   "outputs": [],
   "source": [
    "cubo_1 = [('A', 'A'),('AM','V'),('A','R')]\n",
    "cubo_2 = [('V', 'R'),('A', 'V'),('AM', 'A')]\n",
    "cubo_3 = [('V', 'AM'),('R','R'),('A','AM')]\n",
    "cubo_4 = [('AM','V'),('V','R'),('R','A')]\n",
    "cubo_5 = [('G','G'),('G','G'),('G','G')]\n",
    "game = [cubo_1,cubo_2,cubo_3,cubo_4, cubo_5]"
   ]
  },
  {
   "cell_type": "markdown",
   "metadata": {},
   "source": [
    "#### 3.2. CREACIÓN DEL GRAFO DE PARTIDA\n",
    "\n",
    "Dada la representación anterior resulta muy sencillo la creación del grafo propuesto en el apartado teórico, dado que lo que nos proporcionan cada uno de los cubos son justamente las aristas de dicho cubo en el grafo, basta crear un grafo vacío y añadir las aristas etiquetadas con la posición del cubo en la lista (empezando en 1)."
   ]
  },
  {
   "cell_type": "code",
   "execution_count": null,
   "metadata": {},
   "outputs": [],
   "source": [
    "def graph_from_cubes(cubes):\n",
    "    G = Graph(loops=True, multiedges=True)\n",
    "    for i, edges_ci in enumerate(cubes):\n",
    "        G.add_edges(map(lambda x: tuple(list(x) + [str(i+1)]) , edges_ci))\n",
    "    \n",
    "    return G"
   ]
  },
  {
   "cell_type": "markdown",
   "metadata": {},
   "source": [
    "De forma que el grafo asociado al juego 1 correspondería a:"
   ]
  },
  {
   "cell_type": "code",
   "execution_count": null,
   "metadata": {},
   "outputs": [],
   "source": [
    "G_cubes = graph_from_cubes(game)\n",
    "colors = set(G_cubes.vertices())\n",
    "ncubes = len(game)\n",
    "cubes_inds = set(str(i) for i in range(1, ncubes+1))\n",
    "game_edges = list(G_cubes.edges())\n",
    "plot(G_cubes, edge_labels=True)"
   ]
  },
  {
   "cell_type": "markdown",
   "metadata": {},
   "source": [
    "#### 3.3. BÚSQUEDA DE LOS SUBGRAFOS VÁLIDOS DEL GRAFO\n",
    "\n",
    "Una vez se tiene el grafo el objetivo es encontrar los subgrafos válidos, esto es subrafos recubridores 2-regulares tal que aparezcan todos los cubos como etiquetas de sus aristas. Como se ha expuesto en el apartado teórico, corresponden a los ciclos o uniones de ciclos que cEsto es todos los ciclos o uni"
   ]
  },
  {
   "cell_type": "code",
   "execution_count": null,
   "metadata": {},
   "outputs": [],
   "source": [
    "def all_cycles(graph):\n",
    "    G = Graph(graph)    \n",
    "    cycleList=[]\n",
    "    for e in G.edges(labels=True):\n",
    "        G.delete_edge(e)\n",
    "        if e[0] == e[1] :\n",
    "            cycleList.append(tuple([e]))\n",
    "        else:\n",
    "            for path in G.all_paths(e[1], e[0], use_multiedges=True, report_edges=True, labels = True):\n",
    "                cycleList.append(tuple([e] + list(path)))\n",
    "    return list(cycleList)\n",
    "\n",
    "def colors_in_cycle(cycle):\n",
    "    return set(sum(map(lambda x: x[:2], cycle), ()))\n",
    "\n",
    "def cubes_in_cycle(cycle):\n",
    "    return set(map(lambda x: x[2], cycle))\n",
    "    \n",
    "def is_valid_cycle(s, colors, cubes_inds):\n",
    "    return colors_in_cycle(s)==colors and cubes_in_cycle(s)==cubes_inds\n",
    "\n",
    "cycles = all_cycles(G_cubes)\n",
    "cycles"
   ]
  },
  {
   "cell_type": "code",
   "execution_count": null,
   "metadata": {},
   "outputs": [],
   "source": [
    "valid_subgraphs = list(filter(lambda x: is_valid_cycle(x, colors, cubes_inds), cycles))\n",
    "pending_subgraphs = list(filter(lambda x: len(x)<ncubes, cycles))\n",
    "\n",
    "while pending_subgraphs:\n",
    "    current_cycle = pending_subgraphs.pop(0)\n",
    "    colors_in_current = colors_in_cycle(current_cycle)\n",
    "    if len(current_cycle)==ncubes:\n",
    "        if is_valid_cycle(current_cycle, colors, cubes_inds):\n",
    "            valid_subgraphs.append(current_cycle)\n",
    "    else:\n",
    "        for c in pending_subgraphs:\n",
    "            if (colors_in_current.intersection(colors_in_cycle(c))== set()) and (len(c)+len(current_cycle)) <= ncubes:\n",
    "                pending_subgraphs.append(current_cycle + c) \n",
    "                \n",
    "r= []\n",
    "for c in valid_subgraphs:\n",
    "    csort = list(c)\n",
    "    csort.sort(key=lambda x: x[2])\n",
    "    r.append(tuple(csort))\n",
    "valid_subgraphs = r"
   ]
  },
  {
   "cell_type": "code",
   "execution_count": null,
   "metadata": {},
   "outputs": [],
   "source": [
    "valid_subgraphs"
   ]
  },
  {
   "cell_type": "markdown",
   "metadata": {},
   "source": [
    "#### 3.4. EXTRACCIÓN DE SOLUCIONES"
   ]
  },
  {
   "cell_type": "code",
   "execution_count": null,
   "metadata": {},
   "outputs": [],
   "source": [
    "sols = []\n",
    "gcubes_edges = list(G_cubes.edges())\n",
    "for i,s1 in enumerate(valid_subgraphs):\n",
    "    for s2 in valid_subgraphs[i+1:]:\n",
    "        sol_edges = s1 + s2\n",
    "        if all(gcubes_edges.count(e) >= sol_edges.count(e) for e in set(s1+s2)) and (s1,s2) not in sols and (s2,s1) not in sols:\n",
    "            sols.append((s1,s2))"
   ]
  },
  {
   "cell_type": "code",
   "execution_count": null,
   "metadata": {},
   "outputs": [],
   "source": [
    "sols"
   ]
  },
  {
   "cell_type": "markdown",
   "metadata": {},
   "source": [
    "#### 3.5. ALGORITMO FINAL"
   ]
  },
  {
   "cell_type": "code",
   "execution_count": 1,
   "metadata": {},
   "outputs": [],
   "source": [
    "def instant_insanity_solver(game):\n",
    "    '''\n",
    "    '''\n",
    "    def graph_from_cubes(cubes):\n",
    "        G = Graph(loops=True, multiedges=True)\n",
    "        for i, edges_ci in enumerate(cubes):\n",
    "            G.add_edges(map(lambda x: tuple(list(x) + [str(i+1)]) , edges_ci))\n",
    "\n",
    "        return G\n",
    "\n",
    "    def all_cycles(graph):\n",
    "        G = Graph(graph)    \n",
    "        cycleList=[]\n",
    "        for e in G.edges(labels=True):\n",
    "            G.delete_edge(e)\n",
    "            if e[0] == e[1] :\n",
    "                cycleList.append(tuple([e]))\n",
    "            else:\n",
    "                for path in G.all_paths(e[1], e[0], use_multiedges=True, report_edges=True, labels = True):\n",
    "                    cycleList.append(tuple([e] + list(path)))\n",
    "        return list(cycleList)\n",
    "\n",
    "    def colors_in_cycle(cycle):\n",
    "        return set(sum(map(lambda x: x[:2], cycle), ()))\n",
    "\n",
    "    def cubes_in_cycle(cycle):\n",
    "        return set(map(lambda x: x[2], cycle))\n",
    "\n",
    "    def is_valid_cycle(s, colors, cubes_inds):\n",
    "        return colors_in_cycle(s)==colors and cubes_in_cycle(s)==cubes_inds\n",
    "    \n",
    "    \n",
    "    # Graph initialization\n",
    "    \n",
    "    G_cubes = graph_from_cubes(game)\n",
    "    \n",
    "    \n",
    "    colors = set(G_cubes.vertices())\n",
    "    ncubes = len(game)\n",
    "    cubes_inds = set(str(i) for i in range(1, ncubes+1))\n",
    "    \n",
    "    # Search for valid subgraphs\n",
    "    \n",
    "    ## Search of all_cycles \n",
    "    \n",
    "    cycles = all_cycles(G_cubes)\n",
    "    \n",
    "    ## Filter the complete cycles selecting those that are valid\n",
    "    \n",
    "    valid_subgraphs = list(filter(lambda x: is_valid_cycle(x, colors, cubes_inds), cycles))\n",
    "\n",
    "     ## Search for union of cycles that are valid\n",
    "        \n",
    "    pending_subgraphs = list(filter(lambda x: len(x)<ncubes, cycles))\n",
    "\n",
    "    while pending_subgraphs:\n",
    "        current_cycle = pending_subgraphs.pop(0)\n",
    "        colors_in_current = colors_in_cycle(current_cycle)\n",
    "        if len(current_cycle)==ncubes:\n",
    "            if is_valid_cycle(current_cycle, colors, cubes_inds):\n",
    "                valid_subgraphs.append(current_cycle)\n",
    "        else:\n",
    "            for c in pending_subgraphs:\n",
    "                if (colors_in_current.intersection(colors_in_cycle(c))== set()) and (len(c)+len(current_cycle)) <= ncubes:\n",
    "                    pending_subgraphs.append(current_cycle + c) \n",
    "                    \n",
    "    ## Sort the cycles by the cube asociated to the edge \n",
    "                \n",
    "    r= []\n",
    "    for c in valid_subgraphs:\n",
    "        csort = list(c)\n",
    "        csort.sort(key=lambda x: x[2])\n",
    "        r.append(tuple(csort))\n",
    "    valid_subgraphs = r\n",
    "   \n",
    "\n",
    "    # Extract solutions from the subgraphs\n",
    "    sols = []\n",
    "    gcubes_edges = list(G_cubes.edges())\n",
    "    for i,s1 in enumerate(valid_subgraphs):\n",
    "        for s2 in valid_subgraphs[i+1:]:\n",
    "            sol_edges = s1 + s2\n",
    "            if all(gcubes_edges.count(e) >= sol_edges.count(e) for e in set(s1+s2)) and (s1,s2) not in sols and (s2,s1) not in sols:\n",
    "                sols.append((s1,s2))\n",
    "                \n",
    "                \n",
    "    # Get cubes from solutions (toDo)\n",
    "    \n",
    "    return sols\n",
    "    \n"
   ]
  },
  {
   "cell_type": "markdown",
   "metadata": {},
   "source": [
    "### 4. PRUEBAS \n",
    "#### 4.1. JUEGO 1 (*Solución única*)\n",
    "\n",
    "<img src=\"images/cubosJuego1.png\" alt=\"logoUS\" style=\"display:block; width:40%\"> \n",
    "<br>"
   ]
  },
  {
   "cell_type": "code",
   "execution_count": 2,
   "metadata": {},
   "outputs": [
    {
     "data": {
      "text/plain": [
       "[((('A', 'R', '1'), ('A', 'AM', '2'), ('AM', 'V', '3'), ('R', 'V', '4')),\n",
       "  (('AM', 'V', '1'), ('R', 'V', '2'), ('A', 'AM', '3'), ('A', 'R', '4')))]"
      ]
     },
     "execution_count": 2,
     "metadata": {},
     "output_type": "execute_result"
    }
   ],
   "source": [
    "game1 = [\n",
    "    [('A', 'A'),('A','R'),('AM','V')],\n",
    "    [('A', 'V'),('AM', 'A'),('V', 'R')],\n",
    "    [('A', 'AM'),('R','R'),('AM','V')],\n",
    "    [('A','R'),('V','AM'),('V','R')]\n",
    "]\n",
    "instant_insanity_solver(game1)"
   ]
  },
  {
   "cell_type": "markdown",
   "metadata": {},
   "source": [
    "#### 4.2. JUEGO 2 (*Sin solución*)\n",
    "\n",
    "<img src=\"images/cubosJuego2.png\" alt=\"logoUS\" style=\"display:block; width:40%\"> \n",
    "<br>"
   ]
  },
  {
   "cell_type": "code",
   "execution_count": 3,
   "metadata": {},
   "outputs": [
    {
     "data": {
      "text/plain": [
       "[]"
      ]
     },
     "execution_count": 3,
     "metadata": {},
     "output_type": "execute_result"
    }
   ],
   "source": [
    "game2 = [\n",
    "    [('AM', 'V'),('V','R'),('A','AM')],\n",
    "    [('V', 'A'),('V', 'V'),('A', 'V')],\n",
    "    [('AM', 'R'),('V','V'),('V','A')],\n",
    "    [('AM','A'),('V','A'),('R','R')]\n",
    "]\n",
    "instant_insanity_solver(game2)"
   ]
  },
  {
   "cell_type": "markdown",
   "metadata": {},
   "source": [
    "#### 4.3. JUEGO 3 (*Sin solución*)\n",
    "\n",
    "<img src=\"images/cubosJuego3.png\" alt=\"logoUS\" style=\"display:block; width:40%\"> \n",
    "<br>"
   ]
  },
  {
   "cell_type": "code",
   "execution_count": 4,
   "metadata": {},
   "outputs": [
    {
     "data": {
      "text/plain": [
       "[((('AM', 'V', '1'), ('A', 'V', '2'), ('A', 'R', '3'), ('AM', 'R', '4')),\n",
       "  (('A', 'R', '1'), ('AM', 'R', '2'), ('A', 'AM', '3'), ('V', 'V', '4'))),\n",
       " ((('AM', 'V', '1'), ('A', 'V', '2'), ('A', 'R', '3'), ('AM', 'R', '4')),\n",
       "  (('A', 'R', '1'), ('A', 'R', '2'), ('AM', 'AM', '3'), ('V', 'V', '4'))),\n",
       " ((('V', 'V', '1'), ('A', 'R', '2'), ('A', 'AM', '3'), ('AM', 'R', '4')),\n",
       "  (('A', 'R', '1'), ('A', 'V', '2'), ('AM', 'AM', '3'), ('R', 'V', '4')))]"
      ]
     },
     "execution_count": 4,
     "metadata": {},
     "output_type": "execute_result"
    }
   ],
   "source": [
    "game3 = [\n",
    "    [('R', 'A'),('V','V'),('AM','V')],\n",
    "    [('R', 'A'),('A', 'V'),('R', 'AM')],\n",
    "    [('AM', 'A'),('AM','AM'),('R','A')],\n",
    "    [('V','V'),('R','V'),('R','AM')]\n",
    "]\n",
    "\n",
    "instant_insanity_solver(game3)"
   ]
  },
  {
   "cell_type": "markdown",
   "metadata": {},
   "source": [
    "### 4. REFERENCIAS  \n",
    "\n",
    "<br>\n",
    "\n",
    "<div style=\"margin-left:0.5cm\">\n",
    "    <p><span>[1]</span> <span style=\"margin-left:0.5cm; font-style: italic;\"> ... </span></p>\n",
    "    <p><span>[2]</span> <span style=\"margin-left:0.5cm; font-style: italic;\">...</span></p>\n",
    "    <p><span>[3]</span> <span style=\"margin-left:0.5cm; font-style: italic;\">...</span></p>\n",
    "    <p><span>[4]</span> <span style=\"margin-left:0.5cm; font-style: italic;\">...</span></p>    \n",
    "</div>"
   ]
  }
 ],
 "metadata": {
  "kernelspec": {
   "display_name": "SageMath 9.1",
   "language": "sage",
   "name": "sagemath"
  },
  "language_info": {
   "codemirror_mode": {
    "name": "ipython",
    "version": 3
   },
   "file_extension": ".py",
   "mimetype": "text/x-python",
   "name": "python",
   "nbconvert_exporter": "python",
   "pygments_lexer": "ipython3",
   "version": "3.7.3"
  }
 },
 "nbformat": 4,
 "nbformat_minor": 2
}
